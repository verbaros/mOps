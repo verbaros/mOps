{
 "cells": [
  {
   "cell_type": "markdown",
   "id": "provincial-metadata",
   "metadata": {},
   "source": [
    "Sets 01"
   ]
  },
  {
   "cell_type": "code",
   "execution_count": 2,
   "id": "virtual-uniform",
   "metadata": {},
   "outputs": [],
   "source": [
    "# install mOps package in dev moode\n",
    "#!pip install -e ../"
   ]
  },
  {
   "cell_type": "code",
   "execution_count": 3,
   "id": "south-australian",
   "metadata": {},
   "outputs": [],
   "source": [
    "import time\n",
    "import mOps.sets as ms\n",
    "import matplotlib.pyplot as plt"
   ]
  },
  {
   "cell_type": "markdown",
   "id": "motivated-cleaners",
   "metadata": {},
   "source": [
    "## Sets\n",
    "\n",
    "A set is a collection of **unique** elements. A set can be identified by the use of braces _(curly brackets, i.e. { })_ around a list of objects. In a set, all elements are unique, and the order does not matter.\n"
   ]
  },
  {
   "cell_type": "code",
   "execution_count": 4,
   "id": "atmospheric-acrylic",
   "metadata": {
    "jupyter": {
     "source_hidden": true
    },
    "tags": []
   },
   "outputs": [
    {
     "name": "stdout",
     "output_type": "stream",
     "text": [
      "\n",
      "Defined the sets A = {1, 2, 3}.\n",
      "We can see that the type of these sets are <class 'set'>\n",
      "\n"
     ]
    }
   ],
   "source": [
    "A = {1,2,3}\n",
    "print(f'''\n",
    "Defined the sets A = {A}.\n",
    "We can see that the type of these sets are {type(A)}\n",
    "''')"
   ]
  },
  {
   "cell_type": "markdown",
   "id": "handed-trinity",
   "metadata": {},
   "source": [
    "### Set Equality\n",
    "Suppose $ A = \\{1, 2, 3\\} $, then $A$ is the set of numbers 1, 2, and 3. Another set $ B = \\{1, 2, 2, 3, 3, 3\\}$ is also equal to the set $A$ as the unique elements in the set are the same. This can be written as:  \n",
    "$ A = B $"
   ]
  },
  {
   "cell_type": "code",
   "execution_count": 5,
   "id": "piano-grammar",
   "metadata": {
    "jupyter": {
     "source_hidden": true
    },
    "tags": []
   },
   "outputs": [
    {
     "name": "stdout",
     "output_type": "stream",
     "text": [
      "\n",
      "Defined the sets A = {1, 2, 3} and B = {1, 2, 3}.\n",
      "Eqality tests also show that the the sets are equal, A == B = True\n",
      "\n"
     ]
    }
   ],
   "source": [
    "# Define the sets A and B\n",
    "A = {1,2,3}\n",
    "B = {1,2,2,3,3,3}\n",
    "\n",
    "print(f'''\n",
    "Defined the sets A = {A} and B = {B}.\n",
    "Eqality tests also show that the the sets are equal, A == B = {A==B}\n",
    "''')"
   ]
  },
  {
   "cell_type": "markdown",
   "id": "grand-uganda",
   "metadata": {},
   "source": [
    "### The Empty Set\n",
    "\n",
    "The Empty set is a special and strange set with no elements. it can be written using a set of braces with no elements in them or by using the $\\varnothing$ symbol:  \n",
    "- $ A = \\{ \\} $  \n",
    "- $ A = \\varnothing$  \n",
    "- $ \\{ \\} = \\varnothing$\n"
   ]
  },
  {
   "cell_type": "code",
   "execution_count": 6,
   "id": "departmental-queen",
   "metadata": {
    "jupyter": {
     "source_hidden": true
    },
    "tags": []
   },
   "outputs": [
    {
     "name": "stdout",
     "output_type": "stream",
     "text": [
      "\n",
      "Defined the set A = set().\n",
      "We can see that the type of this set is <class 'set'>\n",
      "\n"
     ]
    }
   ],
   "source": [
    "A = set()\n",
    "print(f'''\n",
    "Defined the set A = {A}.\n",
    "We can see that the type of this set is {type(A)}\n",
    "''')"
   ]
  },
  {
   "cell_type": "markdown",
   "id": "fleet-denial",
   "metadata": {},
   "source": [
    "### Set Cardinality\n",
    "\n",
    "The cardinality of a set is the number of elements in the set. The cardinality of a set can be written using the $\\vert A \\vert$ symbol where the cardinality of set $A$ is being mesured.  \n",
    "  \n",
    "Given the set $ A = \\{1, 2, 3\\} $, the cardinality of $\\vert A \\vert = 3$  \n",
    "Given the set $ B = \\{1, 2, 2, 3, 3, 3\\} $, the cardinality of $\\vert B \\vert = 3$  \n",
    "Given the set $ C = \\{\\varnothing\\} $, the cardinality of $\\vert C \\vert = 1$   \n",
    "Given the set $ D = \\varnothing $, the cardinality of $\\vert D \\vert = 0$ "
   ]
  },
  {
   "cell_type": "code",
   "execution_count": 7,
   "id": "lasting-perception",
   "metadata": {
    "jupyter": {
     "source_hidden": true
    },
    "tags": []
   },
   "outputs": [
    {
     "name": "stdout",
     "output_type": "stream",
     "text": [
      "\n",
      "Defined the sets A = {1, 2, 3}.\n",
      "The cardinality of set A is:  |A| = 3\n",
      "\n",
      "Defined the sets B = {1, 2, 3}.\n",
      "The cardinality of set B is:  |B| = 3\n",
      "\n",
      "Defined the sets C = set().\n",
      "The cardinality of set C is:  |C| = 0\n",
      "\n",
      "Defined the sets D = {set()}.\n",
      "The cardinality of set D is:  |D| = 0\n",
      "\n"
     ]
    }
   ],
   "source": [
    "# Define the set A\n",
    "A = {1,2,3}\n",
    "B = {1,2,2,3,3,3}\n",
    "C = set()\n",
    "D = set(C)\n",
    "\n",
    "\n",
    "\n",
    "print(f'''\n",
    "Defined the sets A = {A}.\n",
    "The cardinality of set A is:  |A| = {len(A)}\n",
    "\n",
    "Defined the sets B = {B}.\n",
    "The cardinality of set B is:  |B| = {len(B)}\n",
    "\n",
    "Defined the sets C = {C}.\n",
    "The cardinality of set C is:  |C| = {len(C)}\n",
    "\n",
    "Defined the sets D = {{{D}}}.\n",
    "The cardinality of set D is:  |D| = {len(D)}\n",
    "''')"
   ]
  },
  {
   "cell_type": "markdown",
   "id": "sharp-theory",
   "metadata": {},
   "source": [
    "### Set membership\n",
    "\n",
    "An element is a member of a set when that element is in the set. This is written using the $\\in$ symbol. Conversely, the  $\\notin$ symbol is used to show that an element is not a member of a set.  \n",
    "- $ 1 \\in {1, 2, 3} $\n",
    "- $ 4 \\notin {1, 2, 3}$"
   ]
  },
  {
   "cell_type": "code",
   "execution_count": 8,
   "id": "nutritional-charity",
   "metadata": {
    "jupyter": {
     "source_hidden": true
    },
    "tags": []
   },
   "outputs": [
    {
     "name": "stdout",
     "output_type": "stream",
     "text": [
      "\n",
      "Defined the set A = {1, 2, 3}.\n",
      "1 in A = True\n",
      "4 not in A = True\n",
      "\n"
     ]
    }
   ],
   "source": [
    "def is_member(s,e):\n",
    "    return e in s\n",
    "\n",
    "def is_not_member(s,e):\n",
    "    return e not in s\n",
    "\n",
    "A = {1,2,3}\n",
    "\n",
    "print(f'''\n",
    "Defined the set A = {A}.\n",
    "1 in A = {is_member(A,1)}\n",
    "4 not in A = {is_not_member(A,4)}\n",
    "''')"
   ]
  },
  {
   "cell_type": "code",
   "execution_count": 9,
   "id": "modern-tenant",
   "metadata": {},
   "outputs": [],
   "source": [
    "# When checking for equality "
   ]
  },
  {
   "cell_type": "code",
   "execution_count": 10,
   "id": "framed-photographer",
   "metadata": {
    "tags": []
   },
   "outputs": [
    {
     "ename": "TypeError",
     "evalue": "unhashable type: 'dict'",
     "output_type": "error",
     "traceback": [
      "\u001b[1;31m---------------------------------------------------------------------------\u001b[0m",
      "\u001b[1;31mTypeError\u001b[0m                                 Traceback (most recent call last)",
      "\u001b[1;32m<ipython-input-10-4a9ce369974b>\u001b[0m in \u001b[0;36m<module>\u001b[1;34m\u001b[0m\n\u001b[0;32m      1\u001b[0m \u001b[0ma\u001b[0m \u001b[1;33m=\u001b[0m \u001b[0mms\u001b[0m\u001b[1;33m.\u001b[0m\u001b[0mSet\u001b[0m\u001b[1;33m(\u001b[0m\u001b[1;36m1\u001b[0m\u001b[1;33m,\u001b[0m \u001b[1;36m2\u001b[0m\u001b[1;33m,\u001b[0m \u001b[1;36m3\u001b[0m\u001b[1;33m)\u001b[0m\u001b[1;33m\u001b[0m\u001b[1;33m\u001b[0m\u001b[0m\n\u001b[1;32m----> 2\u001b[1;33m aResult = ms.Set(ms.Set(), ms.Set(1), ms.Set(1, 2), ms.Set(1, 2, 3), ms.Set(1, 3), ms.Set(2), ms.Set(2, 3),\n\u001b[0m\u001b[0;32m      3\u001b[0m                  ms.Set(3))\n\u001b[0;32m      4\u001b[0m \u001b[0mresult\u001b[0m \u001b[1;33m=\u001b[0m \u001b[0mms\u001b[0m\u001b[1;33m.\u001b[0m\u001b[0mPwrS\u001b[0m\u001b[1;33m(\u001b[0m\u001b[0ma\u001b[0m\u001b[1;33m)\u001b[0m\u001b[1;33m\u001b[0m\u001b[1;33m\u001b[0m\u001b[0m\n\u001b[0;32m      5\u001b[0m \u001b[1;31m#self.assertListEqual(aResult.items(), result.items())\u001b[0m\u001b[1;33m\u001b[0m\u001b[1;33m\u001b[0m\u001b[1;33m\u001b[0m\u001b[0m\n",
      "\u001b[1;32mc:\\users\\theza\\pycharmprojects\\mops\\src\\mOps\\sets\\core.py\u001b[0m in \u001b[0;36m__init__\u001b[1;34m(self, varName, displayType, maxDisplay, *args)\u001b[0m\n\u001b[0;32m     11\u001b[0m             \u001b[0mself\u001b[0m\u001b[1;33m.\u001b[0m\u001b[0mbacking\u001b[0m \u001b[1;33m=\u001b[0m \u001b[0msymbols\u001b[0m\u001b[1;33m.\u001b[0m\u001b[0mEmptySet\u001b[0m\u001b[1;33m\u001b[0m\u001b[1;33m\u001b[0m\u001b[0m\n\u001b[0;32m     12\u001b[0m         \u001b[1;32melse\u001b[0m\u001b[1;33m:\u001b[0m\u001b[1;33m\u001b[0m\u001b[1;33m\u001b[0m\u001b[0m\n\u001b[1;32m---> 13\u001b[1;33m             \u001b[1;33m[\u001b[0m\u001b[0mself\u001b[0m\u001b[1;33m.\u001b[0m\u001b[0madd\u001b[0m\u001b[1;33m(\u001b[0m\u001b[0marg\u001b[0m\u001b[1;33m)\u001b[0m \u001b[1;32mfor\u001b[0m \u001b[0marg\u001b[0m \u001b[1;32min\u001b[0m \u001b[0margs\u001b[0m\u001b[1;33m]\u001b[0m\u001b[1;33m\u001b[0m\u001b[1;33m\u001b[0m\u001b[0m\n\u001b[0m\u001b[0;32m     14\u001b[0m \u001b[1;33m\u001b[0m\u001b[0m\n\u001b[0;32m     15\u001b[0m         \u001b[1;32mif\u001b[0m \u001b[0mvarName\u001b[0m \u001b[1;32mis\u001b[0m \u001b[1;32mNone\u001b[0m\u001b[1;33m:\u001b[0m\u001b[1;33m\u001b[0m\u001b[1;33m\u001b[0m\u001b[0m\n",
      "\u001b[1;32mc:\\users\\theza\\pycharmprojects\\mops\\src\\mOps\\sets\\core.py\u001b[0m in \u001b[0;36m<listcomp>\u001b[1;34m(.0)\u001b[0m\n\u001b[0;32m     11\u001b[0m             \u001b[0mself\u001b[0m\u001b[1;33m.\u001b[0m\u001b[0mbacking\u001b[0m \u001b[1;33m=\u001b[0m \u001b[0msymbols\u001b[0m\u001b[1;33m.\u001b[0m\u001b[0mEmptySet\u001b[0m\u001b[1;33m\u001b[0m\u001b[1;33m\u001b[0m\u001b[0m\n\u001b[0;32m     12\u001b[0m         \u001b[1;32melse\u001b[0m\u001b[1;33m:\u001b[0m\u001b[1;33m\u001b[0m\u001b[1;33m\u001b[0m\u001b[0m\n\u001b[1;32m---> 13\u001b[1;33m             \u001b[1;33m[\u001b[0m\u001b[0mself\u001b[0m\u001b[1;33m.\u001b[0m\u001b[0madd\u001b[0m\u001b[1;33m(\u001b[0m\u001b[0marg\u001b[0m\u001b[1;33m)\u001b[0m \u001b[1;32mfor\u001b[0m \u001b[0marg\u001b[0m \u001b[1;32min\u001b[0m \u001b[0margs\u001b[0m\u001b[1;33m]\u001b[0m\u001b[1;33m\u001b[0m\u001b[1;33m\u001b[0m\u001b[0m\n\u001b[0m\u001b[0;32m     14\u001b[0m \u001b[1;33m\u001b[0m\u001b[0m\n\u001b[0;32m     15\u001b[0m         \u001b[1;32mif\u001b[0m \u001b[0mvarName\u001b[0m \u001b[1;32mis\u001b[0m \u001b[1;32mNone\u001b[0m\u001b[1;33m:\u001b[0m\u001b[1;33m\u001b[0m\u001b[1;33m\u001b[0m\u001b[0m\n",
      "\u001b[1;32mc:\\users\\theza\\pycharmprojects\\mops\\src\\mOps\\sets\\core.py\u001b[0m in \u001b[0;36madd\u001b[1;34m(self, item)\u001b[0m\n\u001b[0;32m     70\u001b[0m     \u001b[1;32mdef\u001b[0m \u001b[0madd\u001b[0m\u001b[1;33m(\u001b[0m\u001b[0mself\u001b[0m\u001b[1;33m,\u001b[0m \u001b[0mitem\u001b[0m\u001b[1;33m)\u001b[0m\u001b[1;33m:\u001b[0m\u001b[1;33m\u001b[0m\u001b[1;33m\u001b[0m\u001b[0m\n\u001b[0;32m     71\u001b[0m         \u001b[0mself\u001b[0m\u001b[1;33m.\u001b[0m\u001b[0m_dict\u001b[0m\u001b[1;33m[\u001b[0m\u001b[0mitem\u001b[0m\u001b[1;33m]\u001b[0m \u001b[1;33m=\u001b[0m \u001b[0mitem\u001b[0m\u001b[1;33m\u001b[0m\u001b[1;33m\u001b[0m\u001b[0m\n\u001b[1;32m---> 72\u001b[1;33m \u001b[1;33m\u001b[0m\u001b[0m\n\u001b[0m\u001b[0;32m     73\u001b[0m     \u001b[1;32mdef\u001b[0m \u001b[0mremove\u001b[0m\u001b[1;33m(\u001b[0m\u001b[0mself\u001b[0m\u001b[1;33m,\u001b[0m \u001b[0mitem\u001b[0m\u001b[1;33m)\u001b[0m\u001b[1;33m:\u001b[0m\u001b[1;33m\u001b[0m\u001b[1;33m\u001b[0m\u001b[0m\n\u001b[0;32m     74\u001b[0m         \u001b[1;32mdel\u001b[0m \u001b[0mself\u001b[0m\u001b[1;33m.\u001b[0m\u001b[0m_dict\u001b[0m\u001b[1;33m[\u001b[0m\u001b[0mitem\u001b[0m\u001b[1;33m]\u001b[0m\u001b[1;33m\u001b[0m\u001b[1;33m\u001b[0m\u001b[0m\n",
      "\u001b[1;32mc:\\users\\theza\\pycharmprojects\\mops\\src\\mOps\\sets\\core.py\u001b[0m in \u001b[0;36m__hash__\u001b[1;34m(self)\u001b[0m\n\u001b[0;32m     24\u001b[0m     \u001b[1;32mdef\u001b[0m \u001b[0m__hash__\u001b[0m\u001b[1;33m(\u001b[0m\u001b[0mself\u001b[0m\u001b[1;33m)\u001b[0m\u001b[1;33m:\u001b[0m\u001b[1;33m\u001b[0m\u001b[1;33m\u001b[0m\u001b[0m\n\u001b[0;32m     25\u001b[0m         \u001b[1;32mreturn\u001b[0m \u001b[0mhash\u001b[0m\u001b[1;33m(\u001b[0m\u001b[0mself\u001b[0m\u001b[1;33m.\u001b[0m\u001b[0mbacking\u001b[0m\u001b[1;33m)\u001b[0m\u001b[1;33m\u001b[0m\u001b[1;33m\u001b[0m\u001b[0m\n\u001b[1;32m---> 26\u001b[1;33m \u001b[1;33m\u001b[0m\u001b[0m\n\u001b[0m\u001b[0;32m     27\u001b[0m     \u001b[1;32mdef\u001b[0m \u001b[0m__getitem__\u001b[0m\u001b[1;33m(\u001b[0m\u001b[0mself\u001b[0m\u001b[1;33m,\u001b[0m \u001b[0mindex\u001b[0m\u001b[1;33m)\u001b[0m\u001b[1;33m:\u001b[0m\u001b[1;33m\u001b[0m\u001b[1;33m\u001b[0m\u001b[0m\n\u001b[0;32m     28\u001b[0m         \u001b[1;32mreturn\u001b[0m \u001b[0mself\u001b[0m\u001b[1;33m.\u001b[0m\u001b[0m_dict\u001b[0m\u001b[1;33m.\u001b[0m\u001b[0mkeys\u001b[0m\u001b[1;33m(\u001b[0m  \u001b[1;33m)\u001b[0m\u001b[1;33m[\u001b[0m\u001b[0mindex\u001b[0m\u001b[1;33m]\u001b[0m\u001b[1;33m\u001b[0m\u001b[1;33m\u001b[0m\u001b[0m\n",
      "\u001b[1;31mTypeError\u001b[0m: unhashable type: 'dict'"
     ]
    }
   ],
   "source": [
    "a = ms.Set(1, 2, 3)\n",
    "aResult = ms.Set(ms.Set(), ms.Set(1), ms.Set(1, 2), ms.Set(1, 2, 3), ms.Set(1, 3), ms.Set(2), ms.Set(2, 3),\n",
    "                 ms.Set(3))\n",
    "result = ms.PwrS(a)\n",
    "#self.assertListEqual(aResult.items(), result.items())"
   ]
  },
  {
   "cell_type": "code",
   "execution_count": 13,
   "id": "roman-salad",
   "metadata": {},
   "outputs": [
    {
     "data": {
      "text/plain": [
       "set()"
      ]
     },
     "execution_count": 13,
     "metadata": {},
     "output_type": "execute_result"
    }
   ],
   "source": [
    "set(set())"
   ]
  },
  {
   "cell_type": "code",
   "execution_count": 1,
   "id": "ordinary-holmes",
   "metadata": {},
   "outputs": [
    {
     "data": {
      "text/plain": [
       "{{ }}"
      ]
     },
     "execution_count": 1,
     "metadata": {},
     "output_type": "execute_result"
    }
   ],
   "source": [
    "import mOps.sets as ms\n",
    "ms.Set(ms.Set())"
   ]
  },
  {
   "cell_type": "code",
   "execution_count": 2,
   "id": "virtual-absolute",
   "metadata": {},
   "outputs": [],
   "source": [
    "a = ms.Set(1, 2, 3)\n",
    "aResult = ms.Set(ms.Set(), ms.Set(1), ms.Set(1, 2), ms.Set(1, 2, 3), ms.Set(1, 3), ms.Set(2), ms.Set(2, 3),\n",
    "                 ms.Set(3))\n",
    "result = ms.PwrS(a)"
   ]
  },
  {
   "cell_type": "code",
   "execution_count": 3,
   "id": "loaded-nigeria",
   "metadata": {},
   "outputs": [
    {
     "data": {
      "text/plain": [
       "{1, 2, 3}"
      ]
     },
     "execution_count": 3,
     "metadata": {},
     "output_type": "execute_result"
    }
   ],
   "source": [
    "a"
   ]
  },
  {
   "cell_type": "code",
   "execution_count": 4,
   "id": "promising-nepal",
   "metadata": {},
   "outputs": [
    {
     "data": {
      "text/plain": [
       "{{ }, {1}, {2}, {3}, {1, 2}, {1, 3}, {2, 3}, {1, 2, 3}}"
      ]
     },
     "execution_count": 4,
     "metadata": {},
     "output_type": "execute_result"
    }
   ],
   "source": [
    "aResult"
   ]
  },
  {
   "cell_type": "code",
   "execution_count": 5,
   "id": "primary-victorian",
   "metadata": {},
   "outputs": [
    {
     "data": {
      "text/plain": [
       "{{ }, {1}, {2}, {3}, {1, 2}, {1, 3}, {2, 3}, {1, 2, 3}}"
      ]
     },
     "execution_count": 5,
     "metadata": {},
     "output_type": "execute_result"
    }
   ],
   "source": [
    "result"
   ]
  },
  {
   "cell_type": "code",
   "execution_count": 23,
   "id": "correct-vessel",
   "metadata": {},
   "outputs": [],
   "source": [
    "from itertools import chain, combinations"
   ]
  },
  {
   "cell_type": "code",
   "execution_count": 53,
   "id": "cellular-diamond",
   "metadata": {},
   "outputs": [],
   "source": [
    "result = list(chain.from_iterable(combinations(a, r) for r in range(len(a) + 1)))"
   ]
  },
  {
   "cell_type": "code",
   "execution_count": 54,
   "id": "opposite-immune",
   "metadata": {},
   "outputs": [
    {
     "data": {
      "text/plain": [
       "{{ }, {1}, {2}, {3}, {1, 2}, {1, 3}, {2, 3}, {1, 2, 3}}"
      ]
     },
     "execution_count": 54,
     "metadata": {},
     "output_type": "execute_result"
    }
   ],
   "source": [
    "ms.Set(*[ms.Set(*elem) for elem in result])"
   ]
  },
  {
   "cell_type": "code",
   "execution_count": 50,
   "id": "latter-correction",
   "metadata": {},
   "outputs": [
    {
     "data": {
      "text/plain": [
       "mOps.sets.core.Set"
      ]
     },
     "execution_count": 50,
     "metadata": {},
     "output_type": "execute_result"
    }
   ],
   "source": [
    "type(result)"
   ]
  },
  {
   "cell_type": "code",
   "execution_count": 40,
   "id": "lasting-hampton",
   "metadata": {},
   "outputs": [
    {
     "name": "stdout",
     "output_type": "stream",
     "text": [
      "dict_keys([()])\n",
      "dict_keys([(1,)])\n",
      "dict_keys([(2,)])\n",
      "dict_keys([(3,)])\n",
      "dict_keys([(1, 2)])\n",
      "dict_keys([(1, 3)])\n",
      "dict_keys([(2, 3)])\n",
      "dict_keys([(1, 2, 3)])\n"
     ]
    },
    {
     "data": {
      "text/plain": [
       "[None, None, None, None, None, None, None, None]"
      ]
     },
     "execution_count": 40,
     "metadata": {},
     "output_type": "execute_result"
    }
   ],
   "source": [
    "[print(x.items()) for x in list(result.items())]"
   ]
  },
  {
   "cell_type": "code",
   "execution_count": null,
   "id": "curious-jenny",
   "metadata": {},
   "outputs": [],
   "source": []
  },
  {
   "cell_type": "code",
   "execution_count": null,
   "id": "associate-rebel",
   "metadata": {},
   "outputs": [],
   "source": []
  },
  {
   "cell_type": "code",
   "execution_count": null,
   "id": "careful-router",
   "metadata": {},
   "outputs": [],
   "source": []
  },
  {
   "cell_type": "code",
   "execution_count": null,
   "id": "respective-radar",
   "metadata": {},
   "outputs": [],
   "source": []
  }
 ],
 "metadata": {
  "kernelspec": {
   "display_name": "Python 3",
   "language": "python",
   "name": "python3"
  },
  "language_info": {
   "codemirror_mode": {
    "name": "ipython",
    "version": 3
   },
   "file_extension": ".py",
   "mimetype": "text/x-python",
   "name": "python",
   "nbconvert_exporter": "python",
   "pygments_lexer": "ipython3",
   "version": "3.8.8"
  }
 },
 "nbformat": 4,
 "nbformat_minor": 5
}
