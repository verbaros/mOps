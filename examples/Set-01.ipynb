{
 "cells": [
  {
   "cell_type": "markdown",
   "id": "limiting-georgia",
   "metadata": {},
   "source": [
    "Sets 01"
   ]
  },
  {
   "cell_type": "code",
   "execution_count": 1,
   "id": "technological-villa",
   "metadata": {},
   "outputs": [],
   "source": [
    "# install mOps package in dev moode\n",
    "#!pip install -e ../"
   ]
  },
  {
   "cell_type": "code",
   "execution_count": 2,
   "id": "advisory-clearance",
   "metadata": {},
   "outputs": [],
   "source": [
    "import time\n",
    "import mOps.sets as ms\n",
    "import mOps.logic as ml\n",
    "import mOps.core.number_generators as ng\n",
    "import matplotlib.pyplot as plt"
   ]
  },
  {
   "cell_type": "markdown",
   "id": "seeing-night",
   "metadata": {},
   "source": [
    "## Sets\n",
    "\n",
    "A set is a collection of **unique** elements. A set can be identified by the use of braces _(curly brackets, i.e. { })_ around a list of objects. In a set, all elements are unique, and the order does not matter.\n"
   ]
  },
  {
   "cell_type": "code",
   "execution_count": 2,
   "id": "meaningful-myanmar",
   "metadata": {
    "jupyter": {
     "source_hidden": true
    },
    "tags": []
   },
   "outputs": [
    {
     "name": "stdout",
     "output_type": "stream",
     "text": [
      "\n",
      "Defined the sets A = {1, 2, 3}.\n",
      "We can see that the type of these sets are <class 'set'>\n",
      "\n"
     ]
    }
   ],
   "source": [
    "A = {1,2,3}\n",
    "print(f'''\n",
    "Defined the sets A = {A}.\n",
    "We can see that the type of these sets are {type(A)}\n",
    "''')"
   ]
  },
  {
   "cell_type": "code",
   "execution_count": 3,
   "id": "narrative-story",
   "metadata": {
    "jupyter": {
     "source_hidden": true
    },
    "tags": []
   },
   "outputs": [
    {
     "name": "stdout",
     "output_type": "stream",
     "text": [
      "\n",
      "Defined the sets A = {1, 2, 3}.\n",
      "We can see that the type of these sets are <class 'mOps.sets.core.Set'>\n",
      "\n"
     ]
    }
   ],
   "source": [
    "A = ms.Set().fromGenerator(ng.isPositiveInt, gen_size=4)\n",
    "print(f'''\n",
    "Defined the sets A = {A}.\n",
    "We can see that the type of these sets are {type(A)}\n",
    "''')"
   ]
  },
  {
   "cell_type": "markdown",
   "id": "strong-lunch",
   "metadata": {},
   "source": [
    "### Set Equality\n",
    "Suppose $ A = \\{1, 2, 3\\} $, then $A$ is the set of numbers 1, 2, and 3. Another set $ B = \\{1, 2, 2, 3, 3, 3\\}$ is also equal to the set $A$ as the unique elements in the set are the same. This can be written as:  \n",
    "$ A = B $"
   ]
  },
  {
   "cell_type": "code",
   "execution_count": 7,
   "id": "acting-bradley",
   "metadata": {
    "tags": []
   },
   "outputs": [
    {
     "name": "stdout",
     "output_type": "stream",
     "text": [
      "\n",
      "Defined the sets A = {1, 2, 3} and B = {1, 2, 3}.\n",
      "Eqality tests also show that the the sets are equal, A == B = True\n",
      "\n"
     ]
    }
   ],
   "source": [
    "# Define the sets A and B\n",
    "A = {1,2,3}\n",
    "B = {1,2,2,3,3,3}\n",
    "\n",
    "print(f'''\n",
    "Defined the sets A = {A} and B = {B}.\n",
    "Eqality tests also show that the the sets are equal, A == B = {A==B}\n",
    "''')"
   ]
  },
  {
   "cell_type": "markdown",
   "id": "alive-booking",
   "metadata": {},
   "source": [
    "The set $ C = \\{3, 2, 1\\} $ is also equal to the set $A$ as the oeder of elements do not matter\n"
   ]
  },
  {
   "cell_type": "code",
   "execution_count": 8,
   "id": "permanent-labor",
   "metadata": {},
   "outputs": [
    {
     "name": "stdout",
     "output_type": "stream",
     "text": [
      "\n",
      "Defined the sets A = {1, 2, 3} and C = {1, 2, 3}.\n",
      "Eqality tests also show that the the sets are equal, A == B = True\n",
      "\n"
     ]
    }
   ],
   "source": [
    "# Define the sets A and B\n",
    "A = {1,2,3}\n",
    "C = {3,2,1}\n",
    "\n",
    "print(f'''\n",
    "Defined the sets A = {A} and C = {C}.\n",
    "Eqality tests also show that the the sets are equal, A == B = {A==C}\n",
    "''')"
   ]
  },
  {
   "cell_type": "code",
   "execution_count": 9,
   "id": "interim-metabolism",
   "metadata": {},
   "outputs": [
    {
     "name": "stdout",
     "output_type": "stream",
     "text": [
      "\n",
      "Defined the sets A = {1, 2, 3} and C = {1, 2, 3}.\n",
      "Eqality tests also show that the the sets are equal, A == B = True\n",
      "\n"
     ]
    }
   ],
   "source": [
    "# Define the sets A and B\n",
    "A = ms.Set(1,2,3)\n",
    "C = ms.Set(3,2,1)\n",
    "\n",
    "print(f'''\n",
    "Defined the sets A = {A} and C = {C}.\n",
    "Eqality tests also show that the the sets are equal, A == B = {A==C}\n",
    "''')"
   ]
  },
  {
   "cell_type": "markdown",
   "id": "fitting-calculator",
   "metadata": {},
   "source": [
    "### The Empty Set\n",
    "\n",
    "The Empty set is a special and strange set with no elements. it can be written using a set of braces with no elements in them or by using the $\\varnothing$ symbol:  \n",
    "- $ A = \\{ \\} $  \n",
    "- $ A = \\varnothing$  \n",
    "- $ \\{ \\} = \\varnothing$\n"
   ]
  },
  {
   "cell_type": "code",
   "execution_count": 6,
   "id": "circular-input",
   "metadata": {
    "jupyter": {
     "source_hidden": true
    },
    "tags": []
   },
   "outputs": [
    {
     "name": "stdout",
     "output_type": "stream",
     "text": [
      "\n",
      "Defined the set A = set().\n",
      "We can see that the type of this set is <class 'set'>\n",
      "\n"
     ]
    }
   ],
   "source": [
    "A = set()\n",
    "print(f'''\n",
    "Defined the set A = {A}.\n",
    "We can see that the type of this set is {type(A)}\n",
    "''')"
   ]
  },
  {
   "cell_type": "code",
   "execution_count": 10,
   "id": "contemporary-ballet",
   "metadata": {
    "jupyter": {
     "source_hidden": true
    },
    "tags": []
   },
   "outputs": [
    {
     "name": "stdout",
     "output_type": "stream",
     "text": [
      "\n",
      "Defined the set A = { }.\n",
      "We can see that the type of this set is <class 'mOps.sets.core.Set'>\n",
      "\n"
     ]
    }
   ],
   "source": [
    "A = ms.Set()\n",
    "print(f'''\n",
    "Defined the set A = {A}.\n",
    "We can see that the type of this set is {type(A)}\n",
    "''')"
   ]
  },
  {
   "cell_type": "markdown",
   "id": "activated-relevance",
   "metadata": {},
   "source": [
    "### Set Cardinality\n",
    "\n",
    "The cardinality of a set is the number of elements in the set. The cardinality of a set can be written using the $\\vert A \\vert$ symbol where the cardinality of set $A$ is being mesured.  \n",
    "  \n",
    "Given the set $ A = \\{1, 2, 3\\} $, the cardinality of $\\vert A \\vert = 3$  \n",
    "Given the set $ B = \\{1, 2, 2, 3, 3, 3\\} $, the cardinality of $\\vert B \\vert = 3$  \n",
    "Given the set $ C = \\{\\varnothing\\} $, the cardinality of $\\vert C \\vert = 1$   \n",
    "Given the set $ D = \\varnothing $, the cardinality of $\\vert D \\vert = 0$ "
   ]
  },
  {
   "cell_type": "code",
   "execution_count": 7,
   "id": "similar-supervision",
   "metadata": {
    "jupyter": {
     "source_hidden": true
    },
    "tags": []
   },
   "outputs": [
    {
     "name": "stdout",
     "output_type": "stream",
     "text": [
      "\n",
      "Defined the sets A = {1, 2, 3}.\n",
      "The cardinality of set A is:  |A| = 3\n",
      "\n",
      "Defined the sets B = {1, 2, 3}.\n",
      "The cardinality of set B is:  |B| = 3\n",
      "\n",
      "Defined the sets C = set().\n",
      "The cardinality of set C is:  |C| = 0\n",
      "\n",
      "Defined the sets D = {set()}.\n",
      "The cardinality of set D is:  |D| = 0\n",
      "\n"
     ]
    }
   ],
   "source": [
    "# Define the set A\n",
    "A = {1,2,3}\n",
    "B = {1,2,2,3,3,3}\n",
    "C = set()\n",
    "D = set(C)\n",
    "\n",
    "\n",
    "\n",
    "print(f'''\n",
    "Defined the sets A = {A}.\n",
    "The cardinality of set A is:  |A| = {len(A)}\n",
    "\n",
    "Defined the sets B = {B}.\n",
    "The cardinality of set B is:  |B| = {len(B)}\n",
    "\n",
    "Defined the sets C = {C}.\n",
    "The cardinality of set C is:  |C| = {len(C)}\n",
    "\n",
    "Defined the sets D = {{{D}}}.\n",
    "The cardinality of set D is:  |D| = {len(D)}\n",
    "''')"
   ]
  },
  {
   "cell_type": "code",
   "execution_count": 12,
   "id": "deadly-marijuana",
   "metadata": {
    "jupyter": {
     "source_hidden": true
    },
    "tags": []
   },
   "outputs": [
    {
     "name": "stdout",
     "output_type": "stream",
     "text": [
      "\n",
      "Defined the sets A = {1, 2, 3}.\n",
      "The cardinality of set A is:  |A| = 3\n",
      "\n",
      "Defined the sets B = {1, 2, 3}.\n",
      "The cardinality of set B is:  |B| = 3\n",
      "\n",
      "Defined the sets C = { }.\n",
      "The cardinality of set C is:  |C| = 0\n",
      "\n",
      "Defined the sets D = {{ }}.\n",
      "The cardinality of set D is:  |D| = 1\n",
      "\n"
     ]
    }
   ],
   "source": [
    "# Define the set A\n",
    "A = ms.Set(1,2,3)\n",
    "B = ms.Set(1,2,2,3,3,3)\n",
    "C = ms.Set()\n",
    "D = ms.Set(C)\n",
    "\n",
    "\n",
    "\n",
    "print(f'''\n",
    "Defined the sets A = {A}.\n",
    "The cardinality of set A is:  |A| = {len(A)}\n",
    "\n",
    "Defined the sets B = {B}.\n",
    "The cardinality of set B is:  |B| = {len(B)}\n",
    "\n",
    "Defined the sets C = {C}.\n",
    "The cardinality of set C is:  |C| = {len(C)}\n",
    "\n",
    "Defined the sets D = {D}.\n",
    "The cardinality of set D is:  |D| = {len(D)}\n",
    "''')"
   ]
  },
  {
   "cell_type": "markdown",
   "id": "worthy-pierce",
   "metadata": {
    "tags": []
   },
   "source": [
    "### Set membership\n",
    "\n",
    "An element is a member of a set when that element is in the set. This is written using the $\\in$ symbol. Conversely, the  $\\notin$ symbol is used to show that an element is not a member of a set.  \n",
    "- $ 1 \\in {1, 2, 3} $\n",
    "- $ 4 \\notin {1, 2, 3}$"
   ]
  },
  {
   "cell_type": "code",
   "execution_count": 8,
   "id": "global-supply",
   "metadata": {
    "jupyter": {
     "source_hidden": true
    },
    "tags": []
   },
   "outputs": [
    {
     "name": "stdout",
     "output_type": "stream",
     "text": [
      "\n",
      "Defined the set A = {1, 2, 3}.\n",
      "1 in A = True\n",
      "4 not in A = True\n",
      "\n"
     ]
    }
   ],
   "source": [
    "def is_member(s,e):\n",
    "    return e in s\n",
    "\n",
    "def is_not_member(s,e):\n",
    "    return e not in s\n",
    "\n",
    "A = {1,2,3}\n",
    "\n",
    "print(f'''\n",
    "Defined the set A = {A}.\n",
    "1 in A = {is_member(A,1)}\n",
    "4 not in A = {is_not_member(A,4)}\n",
    "''')"
   ]
  },
  {
   "cell_type": "code",
   "execution_count": 9,
   "id": "french-keyboard",
   "metadata": {},
   "outputs": [],
   "source": [
    "# When checking for equality "
   ]
  },
  {
   "cell_type": "code",
   "execution_count": 5,
   "id": "covered-initial",
   "metadata": {},
   "outputs": [
    {
     "data": {
      "text/plain": [
       "{0, 2, 3, 4, 5, 6, 7, 8, 10, 11, 12, 13, 14, 16, 17, 18, 19, 20, 22, 23, 24, 26, 28, 29, 30, 31, 32, 34, 36, 37, 38, 40, 41, 42, 43, 44, 46, 47, 48, 50, 52, 53, 54, 56, 58, 59, 60, 61, 62, 64, 66, 67, 68, 70, 71, 72, 73, 74, 76, 78, 79, 80, 82, 83, 84, 86, 88, 89, 90, 92, 94, 96, 97, 98}"
      ]
     },
     "execution_count": 5,
     "metadata": {},
     "output_type": "execute_result"
    }
   ],
   "source": [
    "ms.Set().fromGenerator(ng.isPrime,ml.OR, ng.isEven)"
   ]
  },
  {
   "cell_type": "code",
   "execution_count": 6,
   "id": "insured-spine",
   "metadata": {},
   "outputs": [
    {
     "data": {
      "text/plain": [
       "{31, 71, 89}"
      ]
     },
     "execution_count": 6,
     "metadata": {},
     "output_type": "execute_result"
    }
   ],
   "source": [
    "y = ms.Set().fromGenerator(ng.isPrime, generator=ng.randomGenerator())\n",
    "y"
   ]
  },
  {
   "cell_type": "code",
   "execution_count": 8,
   "id": "stretch-consumption",
   "metadata": {},
   "outputs": [
    {
     "data": {
      "text/plain": [
       "True"
      ]
     },
     "execution_count": 8,
     "metadata": {},
     "output_type": "execute_result"
    }
   ],
   "source": [
    "31 in y"
   ]
  },
  {
   "cell_type": "code",
   "execution_count": 12,
   "id": "color-bulgaria",
   "metadata": {},
   "outputs": [
    {
     "data": {
      "text/plain": [
       "{31}"
      ]
     },
     "execution_count": 12,
     "metadata": {},
     "output_type": "execute_result"
    }
   ],
   "source": [
    "z = ms.Set().fromGenerator(ng.isIn, y, ml.AND, ng.isOdd, generator=ng.rangeGenerator(20,50))\n",
    "z"
   ]
  },
  {
   "cell_type": "code",
   "execution_count": 7,
   "id": "photographic-negotiation",
   "metadata": {},
   "outputs": [
    {
     "data": {
      "text/plain": [
       "4"
      ]
     },
     "execution_count": 7,
     "metadata": {},
     "output_type": "execute_result"
    }
   ],
   "source": [
    "int(round(7/2))"
   ]
  },
  {
   "cell_type": "code",
   "execution_count": 13,
   "id": "advisory-photographer",
   "metadata": {},
   "outputs": [
    {
     "data": {
      "text/plain": [
       "[1, 3, 5]"
      ]
     },
     "execution_count": 13,
     "metadata": {},
     "output_type": "execute_result"
    }
   ],
   "source": [
    "[x for x in range(1, int(round(7)), 2)]"
   ]
  },
  {
   "cell_type": "code",
   "execution_count": null,
   "id": "entertaining-destruction",
   "metadata": {},
   "outputs": [],
   "source": []
  }
 ],
 "metadata": {
  "kernelspec": {
   "display_name": "Python 3",
   "language": "python",
   "name": "python3"
  },
  "language_info": {
   "codemirror_mode": {
    "name": "ipython",
    "version": 3
   },
   "file_extension": ".py",
   "mimetype": "text/x-python",
   "name": "python",
   "nbconvert_exporter": "python",
   "pygments_lexer": "ipython3",
   "version": "3.8.8"
  }
 },
 "nbformat": 4,
 "nbformat_minor": 5
}
